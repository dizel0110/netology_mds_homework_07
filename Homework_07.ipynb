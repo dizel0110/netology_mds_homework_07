{
 "cells": [
  {
   "cell_type": "markdown",
   "metadata": {},
   "source": [
    "## Домашнее задание \"Теория вероятности. Дискретные С.В.\""
   ]
  },
  {
   "cell_type": "code",
   "execution_count": 49,
   "metadata": {},
   "outputs": [],
   "source": [
    "import matplotlib.pyplot as plt\n",
    "import numpy as np\n",
    "import random\n",
    "from scipy.stats import binom\n",
    "import statistics\n",
    "\n",
    "from numpy.random import choice\n",
    "from scipy.stats import *\n",
    "\n",
    "%matplotlib inline"
   ]
  },
  {
   "cell_type": "markdown",
   "metadata": {},
   "source": [
    "### **Задание 1**\n",
    "Монетку подбрасывают 15 раз, найдите вероятность выпадения простого числа (решение на бумажке и на python)."
   ]
  },
  {
   "cell_type": "markdown",
   "metadata": {},
   "source": [
    "[Фукнция для нахождения всех простых чисел до заданного (их много, например отсюда взял один из представленных вариантов):](https://rosettacode.org/wiki/Sieve_of_Eratosthenes#Python)"
   ]
  },
  {
   "cell_type": "code",
   "execution_count": 60,
   "metadata": {},
   "outputs": [],
   "source": [
    "def iprimes_upto(limit):\n",
    "    is_prime = [False] * 2 + [True] * (limit - 1)\n",
    "    for n in range(int(limit**0.5 + 1.5)): # stop at ``sqrt(limit)``\n",
    "        if is_prime[n]:\n",
    "            for i in range(n * n, limit + 1, n): # start at ``n`` squared\n",
    "                is_prime[i] = False\n",
    "    for i in range(limit + 1):\n",
    "        if is_prime[i]: yield i"
   ]
  },
  {
   "cell_type": "markdown",
   "metadata": {},
   "source": [
    "Теперь можно и вычислить вероятность события:"
   ]
  },
  {
   "cell_type": "code",
   "execution_count": 61,
   "metadata": {},
   "outputs": [
    {
     "data": {
      "text/plain": [
       "0.3499755859375009"
      ]
     },
     "execution_count": 61,
     "metadata": {},
     "output_type": "execute_result"
    }
   ],
   "source": [
    "x = list(iprimes_upto(15))\n",
    "n, p = 15, 0.5\n",
    "prb = 0\n",
    "for xx in x:\n",
    "    prb += binom.pmf(xx, n, p)\n",
    "prb"
   ]
  },
  {
   "cell_type": "code",
   "execution_count": 62,
   "metadata": {},
   "outputs": [
    {
     "data": {
      "text/plain": [
       "[2, 3, 5, 7, 11, 13]"
      ]
     },
     "execution_count": 62,
     "metadata": {},
     "output_type": "execute_result"
    }
   ],
   "source": [
    "x"
   ]
  },
  {
   "cell_type": "markdown",
   "metadata": {},
   "source": [
    "Простые числа в интервале от 1 до 15 будут: 2, 3, 5, 7, 11, 13.\n",
    "Всего простых чисел 6.\n",
    "Всего чисел в нашем множестве 15.\n",
    "Вероятность выпадения любого числа в нашем случае имеет биноминальное распределение.\n",
    "Нас интересует сумма шести слагаемых, отвечающих за выпадение простых чисел.\n",
    "Запишем с помощью кода, также как поступили выше. Только покажем все слагаемые поподробней.    "
   ]
  },
  {
   "cell_type": "code",
   "execution_count": null,
   "metadata": {},
   "outputs": [],
   "source": [
    "p = 0.5\n",
    "n = 15"
   ]
  },
  {
   "cell_type": "code",
   "execution_count": 54,
   "metadata": {},
   "outputs": [],
   "source": [
    "b2 = binom.pmf (2, 15, 0.5)\n",
    "b3 = binom.pmf (3, 15, 0.5)\n",
    "b5 = binom.pmf (5, 15, 0.5)\n",
    "b7 = binom.pmf (7, 15, 0.5)\n",
    "b11 = binom.pmf (11, 15, 0.5)\n",
    "b13 = binom.pmf (13, 15, 0.5)"
   ]
  },
  {
   "cell_type": "code",
   "execution_count": 55,
   "metadata": {},
   "outputs": [
    {
     "data": {
      "text/plain": [
       "0.3499755859375009"
      ]
     },
     "execution_count": 55,
     "metadata": {},
     "output_type": "execute_result"
    }
   ],
   "source": [
    "b2 + b3 + b5 + b7 + b11 + b13 "
   ]
  },
  {
   "cell_type": "markdown",
   "metadata": {},
   "source": [
    "### **Задание 2**\n",
    "Создайте свою дискретную случайную величину с не менее, чем 10 значениями. Просемплируйте 1000 случайных значений, постройте гистограмму плотности распределения по выборке, посчитайте среднее, дисперсию и медиану."
   ]
  },
  {
   "cell_type": "markdown",
   "metadata": {},
   "source": [
    "[Сэмплирование и точность вычислений](https://habr.com/ru/post/458890/)  \n",
    "Играют размером сэмпла и смотрят за метриками (используют R).  "
   ]
  },
  {
   "cell_type": "markdown",
   "metadata": {},
   "source": [
    "Планирую рандомом создать количество значений, и возможно вероятность тоже сделать рандомной (или псевдо-)."
   ]
  },
  {
   "cell_type": "markdown",
   "metadata": {},
   "source": [
    "Радномим дискретную величину (целые значения будут точно дискретными), ставим для каждого значения дискретной велчины свою вероятность, в сумме чтобы была единичка."
   ]
  },
  {
   "cell_type": "code",
   "execution_count": 27,
   "metadata": {},
   "outputs": [
    {
     "data": {
      "text/plain": [
       "array([0.02833477, 0.00334066, 0.0002672 , 0.02868931, 0.02523044,\n",
       "       0.00484811, 0.00681516, 0.01780269, 0.00314919, 0.00060394,\n",
       "       0.02723834, 0.01799038, 0.02768409, 0.00307637, 0.0162121 ,\n",
       "       0.01061718, 0.03206767, 0.02752575, 0.01732124, 0.00312893,\n",
       "       0.01916604, 0.00136689, 0.00395855, 0.0251068 , 0.01024111,\n",
       "       0.01079116, 0.01655854, 0.03258502, 0.01298366, 0.02304473,\n",
       "       0.0320741 , 0.01880702, 0.02535016, 0.02669832, 0.01810575,\n",
       "       0.03032772, 0.02653245, 0.02402301, 0.01435936, 0.03104454,\n",
       "       0.02590012, 0.02384961, 0.00119729, 0.0206261 , 0.00851042,\n",
       "       0.0096913 , 0.03118919, 0.0309893 , 0.0068663 , 0.00274366,\n",
       "       0.01594123, 0.02020603, 0.02696234, 0.02734207, 0.0131314 ,\n",
       "       0.00138205, 0.003927  , 0.01939067, 0.00508549])"
      ]
     },
     "execution_count": 27,
     "metadata": {},
     "output_type": "execute_result"
    }
   ],
   "source": [
    "size_values = np.random.randint(low=40, high=60, size=1)\n",
    "elements = np.random.randint(low=10, high=1000, size = size_values).tolist()\n",
    "#elements\n",
    "\n",
    "list_of_random_floats = np.random.random(size_values)\n",
    "sum_of_values = list_of_random_floats.sum()\n",
    "probabilities = list_of_random_floats / sum_of_values\n",
    "\n",
    "probabilities"
   ]
  },
  {
   "cell_type": "code",
   "execution_count": 28,
   "metadata": {},
   "outputs": [
    {
     "data": {
      "image/png": "[encoded data removed]",
      "text/plain": [
       "<Figure size 432x288 with 1 Axes>"
      ]
     },
     "metadata": {
      "needs_background": "light"
     },
     "output_type": "display_data"
    }
   ],
   "source": [
    "h = np.random.choice(elements, 1000, p=probabilities)\n",
    "plt.hist(h, 16, density=True)\n",
    "plt.show()"
   ]
  },
  {
   "cell_type": "markdown",
   "metadata": {},
   "source": [
    "**Среднее значение**  \n",
    "Сумма всех элементов на длину всех элементов. Воспользуемся функцией mean()."
   ]
  },
  {
   "cell_type": "code",
   "execution_count": 29,
   "metadata": {},
   "outputs": [
    {
     "data": {
      "text/plain": [
       "474"
      ]
     },
     "execution_count": 29,
     "metadata": {},
     "output_type": "execute_result"
    }
   ],
   "source": [
    "statistics.mean(h)"
   ]
  },
  {
   "cell_type": "markdown",
   "metadata": {},
   "source": [
    "**Дисперсия** - квадрат стандартного отклонения  \n",
    "Функция var() вычисляет дисперсию значений элементов массива."
   ]
  },
  {
   "cell_type": "code",
   "execution_count": 35,
   "metadata": {},
   "outputs": [
    {
     "data": {
      "text/plain": [
       "71123.124284"
      ]
     },
     "execution_count": 35,
     "metadata": {},
     "output_type": "execute_result"
    }
   ],
   "source": [
    "np.var(h)"
   ]
  },
  {
   "cell_type": "markdown",
   "metadata": {},
   "source": [
    "**Медиана** - это такое значение случайного распределения, что ровно половина выборки меньше него, а ровно половина - больше."
   ]
  },
  {
   "cell_type": "code",
   "execution_count": 32,
   "metadata": {},
   "outputs": [
    {
     "data": {
      "text/plain": [
       "479.0"
      ]
     },
     "execution_count": 32,
     "metadata": {},
     "output_type": "execute_result"
    }
   ],
   "source": [
    "statistics.median(h)"
   ]
  },
  {
   "cell_type": "markdown",
   "metadata": {},
   "source": [
    "### **Задание 3**\n",
    "Пусть брошены 3 уравновешенные монеты. Рассмотрим 3 события:\n",
    "\n",
    "$A_1$ - монеты 1 и 2 упали одной и той же стороной,\n",
    "\n",
    "$A_2$ - монеты 2 и 3 упали одной и той же стороной,\n",
    "\n",
    "$A_3$ - монеты 1 и 3 упали одной и той же стороной.\n",
    "\n",
    "Покажите, почему эти 3 события являются попарно независимыми, но не являются независимыми в совокупности."
   ]
  },
  {
   "cell_type": "markdown",
   "metadata": {},
   "source": [
    " **Попарно события независимы.** Рассмотрим произвольную пару событий (любую). Аналогично для других пар. Возьмём пару событий $A_1$ и $A_3$. Пусть выполнено одно из них, например $A_3$. Это означает, что монеты 1 и 3 упали одной и той же стороной. Данная информация нам не даёт информации о состоянии монеты 2. Следовательно мы не знаем произошло или нет событие $A_1$. Как результат наступления события $A_3$ не изменяет вероятность наступления события $A_1$. События $A_1$ и $A_3$ попарно независимы, как и любая другая пара событий из этой тройки событий.\n",
    "    \n",
    "**Все три  события в совокупности зависимы.** Пусть события $A_1$ и $A_2$ произошли. Согласно событиям $A_1$ и $A_2$ монеты 1, 2, 3 упали одной и той же стороной, то есть и событие $A_3$ выполнено. Также можно рассуждать, взяв за основу то, что события $A_1$ и $A_3$ выполнены, тогда как следствие событие $A_2$ выполнено. Если события $A_2$ и $A_3$ произошли, то и монеты 1 и 2 упали одной стороной (событие $A_1$)."
   ]
  },
  {
   "cell_type": "markdown",
   "metadata": {},
   "source": [
    "### **Задание 4 (формула полной вероятности)**\n",
    "В магазин привезли устройства с 3-х разных предприятий. Соотношение устройств следующее: 20% - продукция первого предприятия, 30% - продукция второго предприятия, 50% - продукция третьего предприятия; далее, 10% продукции первого предприятия высшего сорта, на втором предприятии - 5% и на третьем - 20% продукции высшего сорта. Найти вероятность того, что случайно купленная новая продукция окажется высшего сорта."
   ]
  },
  {
   "cell_type": "markdown",
   "metadata": {},
   "source": [
    "Обозначим через $A$ событие, заключающееся в том, что будет куплена продукция высшего сорта, через $B_1$, $B_2$, $B_3$ обозначним события, заключающиеся в покупке продукции, принадлежащей соответственно первому, второму и третьему предприятиям.\n",
    "\n",
    "Можно применить формулу полной вероятности, причём в наших обозначениях:  \n",
    "$P(B_1)$ = 0,2 $P(A|B_1)$ = 0,1  \n",
    "$P(B_2)$ = 0,3 $P(A|B_2)$ = 0,05  \n",
    "$P(B_3)$ = 0,5 $P(A|B_3)$ = 0,2  \n",
    "\n",
    "Подставляя эти значения в формулу полной вероятности, получим искомую вероятность:  \n",
    "$P(A) = P(A|B_1) * P(B_1) + P(A|B_2) * P(B_2) + P(A|B_3) P(B_3)$  \n",
    "$P(A) = 0,2 * 0,1 + 0,3 * 0,05 + 0,5 * 0,2$  \n",
    "$P(A) = 0,135$"
   ]
  },
  {
   "cell_type": "code",
   "execution_count": 36,
   "metadata": {},
   "outputs": [
    {
     "data": {
      "text/plain": [
       "0.135"
      ]
     },
     "execution_count": 36,
     "metadata": {},
     "output_type": "execute_result"
    }
   ],
   "source": [
    "0.2 * 0.1 + 0.3 * 0.05 + 0.5 * 0.2"
   ]
  }
 ],
 "metadata": {
  "kernelspec": {
   "display_name": "Python 3",
   "language": "python",
   "name": "python3"
  },
  "language_info": {
   "codemirror_mode": {
    "name": "ipython",
    "version": 3
   },
   "file_extension": ".py",
   "mimetype": "text/x-python",
   "name": "python",
   "nbconvert_exporter": "python",
   "pygments_lexer": "ipython3",
   "version": "3.7.6"
  }
 },
 "nbformat": 4,
 "nbformat_minor": 2
}
